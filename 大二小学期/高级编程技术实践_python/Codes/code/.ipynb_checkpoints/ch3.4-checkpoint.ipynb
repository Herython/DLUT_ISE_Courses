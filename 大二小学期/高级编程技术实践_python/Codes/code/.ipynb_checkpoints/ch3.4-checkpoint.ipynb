{
 "cells": [
  {
   "cell_type": "code",
   "execution_count": 1,
   "metadata": {},
   "outputs": [],
   "source": [
    "import matplotlib.pyplot as plt\n",
    "%matplotlib inline"
   ]
  },
  {
   "cell_type": "code",
   "execution_count": 2,
   "metadata": {},
   "outputs": [],
   "source": [
    "# 设置中文字体\n",
    "plt.rcParams['font.family'] = ['SimHei']"
   ]
  },
  {
   "cell_type": "code",
   "execution_count": 4,
   "metadata": {},
   "outputs": [
    {
     "data": {
      "text/plain": [
       "<matplotlib.legend.Legend at 0x1ea14620f28>"
      ]
     },
     "execution_count": 4,
     "metadata": {},
     "output_type": "execute_result"
    },
    {
     "data": {
      "image/png": "[encoded data removed]",
      "text/plain": [
       "<Figure size 432x288 with 1 Axes>"
      ]
     },
     "metadata": {
      "needs_background": "light"
     },
     "output_type": "display_data"
    }
   ],
   "source": [
    "x1 = [1, 3, 5, 7, 9]  # x1轴坐标数据\n",
    "y1 = [5, 2, 7, 8, 2]  # y1轴坐标数据\n",
    "\n",
    "x2 = [2, 4, 6, 8, 10]  # x2轴坐标数据\n",
    "y2 = [8, 6, 2, 5, 6]  # y2轴坐标数据\n",
    "\n",
    "# 绘制柱状图\n",
    "plt.bar(x1, y1, label='柱状图1')\n",
    "plt.bar(x2, y2, label='柱状图2')\n",
    "\n",
    "plt.title('绘制柱状图')  # 添加图表标题\n",
    "\n",
    "plt.ylabel('y轴')  # 添加y轴标题\n",
    "plt.xlabel('x轴')  # 添加x轴标题\n",
    "\n",
    "plt.legend()  # 设置图例"
   ]
  },
  {
   "cell_type": "code",
   "execution_count": null,
   "metadata": {},
   "outputs": [],
   "source": []
  }
 ],
 "metadata": {
  "kernelspec": {
   "display_name": "Python 3",
   "language": "python",
   "name": "python3"
  },
  "language_info": {
   "codemirror_mode": {
    "name": "ipython",
    "version": 3
   },
   "file_extension": ".py",
   "mimetype": "text/x-python",
   "name": "python",
   "nbconvert_exporter": "python",
   "pygments_lexer": "ipython3",
   "version": "3.7.1"
  }
 },
 "nbformat": 4,
 "nbformat_minor": 2
}
